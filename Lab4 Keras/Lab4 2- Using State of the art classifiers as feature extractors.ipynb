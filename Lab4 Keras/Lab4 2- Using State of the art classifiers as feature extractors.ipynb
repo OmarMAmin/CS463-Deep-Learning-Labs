{
 "cells": [
  {
   "cell_type": "markdown",
   "metadata": {},
   "source": [
    "# FineTuning CNN for Cats vs Dogs\n",
    "\n",
    "There's a competition called imagenet, that's held yearly, it contains millions of images for 1000 different classes, the main advantage of the networks that are built for solving this competition is that they can be used to solve other tasks.\n",
    "\n",
    "Keras has lots of these models built in into the framework.\n",
    "\n",
    "In the next few labs  we'll be using one of these networks to build a good classifier, we'll know more about these models in the next lab.\n",
    "\n",
    "To use keras for your own dataset, you'll need to structure your folders as follows:\n",
    "\n",
    "#### parent_folder:\n",
    "    - train\n",
    "        - class1_name\n",
    "            - img1\n",
    "            - img2\n",
    "        - class2_name\n",
    "            - img1\n",
    "            - img2\n",
    "    - valid\n",
    "        - class1_name\n",
    "            - img1\n",
    "            - img2\n",
    "        - class2_name\n",
    "            - img1\n",
    "            - img2\n",
    "Of course there'll be more than two images in each directory, also in this lab we'll be building a classifier to classify cats and dogs pictures."
   ]
  },
  {
   "cell_type": "code",
   "execution_count": null,
   "metadata": {
    "collapsed": true
   },
   "outputs": [],
   "source": [
    "from keras.preprocessing.image import ImageDataGenerator\n",
    "from keras.models import Sequential,Model\n",
    "from keras.layers import Input, Convolution2D, MaxPooling2D\n",
    "from keras.layers import Activation, Dropout, Flatten, Dense, ZeroPadding2D\n",
    "from keras import optimizers\n",
    "import matplotlib.pyplot as plt\n",
    "import numpy as np\n",
    "\n",
    "# dimensions of our images.\n",
    "img_width, img_height =150, 150\n",
    "\n",
    "train_data_dir = './data/train/'\n",
    "validation_data_dir = './data/validation'\n",
    "nb_train_samples = 2000\n",
    "nb_validation_samples = 1000\n",
    "nb_epoch = 1 # please change it to about 50 if you have enough time or calculation ability\n",
    "\n"
   ]
  },
  {
   "cell_type": "code",
   "execution_count": null,
   "metadata": {},
   "outputs": [],
   "source": [
    "from keras.applications.vgg16 import VGG16\n",
    "from keras.layers import Input\n",
    "\n",
    "input_tensor = Input((img_width, img_height, 3))\n",
    "model = VGG16(include_top=False, weights='imagenet', input_tensor=input_tensor)\n",
    "datagen = ImageDataGenerator(rescale=1./255)\n",
    "\n",
    "generator = datagen.flow_from_directory(\n",
    "        train_data_dir,\n",
    "        target_size=(img_width,img_height),\n",
    "        batch_size=100,\n",
    "        class_mode=None,\n",
    "        shuffle=False)\n",
    "\n",
    "#bottleneck_features_train = model.predict_generator(generator,nb_train_samples)\n",
    "bottleneck_features_train = model.predict_generator(generator,20,verbose=1)\n",
    "print(bottleneck_features_train.shape)\n",
    "np.save('bottleneck_features_train.npy', bottleneck_features_train)"
   ]
  },
  {
   "cell_type": "code",
   "execution_count": null,
   "metadata": {
    "collapsed": true
   },
   "outputs": [],
   "source": [
    "generator = datagen.flow_from_directory(\n",
    "        validation_data_dir,\n",
    "        target_size=(img_width,img_height),\n",
    "        batch_size=100,\n",
    "        class_mode=None,\n",
    "        shuffle=False)\n",
    "#bottleneck_features_validation = model.predict_generator(generator,nb_validation_samples)\n",
    "bottleneck_features_validation = model.predict_generator(generator,8)\n",
    "print(bottleneck_features_validation.shape)\n",
    "np.save('bottleneck_features_validation.npy', bottleneck_features_validation)"
   ]
  }
 ],
 "metadata": {
  "anaconda-cloud": {},
  "kernelspec": {
   "display_name": "Python 3",
   "language": "python",
   "name": "python3"
  },
  "language_info": {
   "codemirror_mode": {
    "name": "ipython",
    "version": 3
   },
   "file_extension": ".py",
   "mimetype": "text/x-python",
   "name": "python",
   "nbconvert_exporter": "python",
   "pygments_lexer": "ipython3",
   "version": "3.6.3"
  }
 },
 "nbformat": 4,
 "nbformat_minor": 1
}
